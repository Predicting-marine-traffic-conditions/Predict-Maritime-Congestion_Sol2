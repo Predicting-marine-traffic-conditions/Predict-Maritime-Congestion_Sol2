{
 "cells": [
  {
   "cell_type": "markdown",
   "id": "3e5e14f5-fff0-48ce-80ba-fe8dcae9eed8",
   "metadata": {},
   "source": [
    "## Modelling the sea using grid-based methods"
   ]
  },
  {
   "cell_type": "code",
   "execution_count": 1,
   "id": "197fbbba-d9b1-4f58-8fb5-da24fe226db5",
   "metadata": {},
   "outputs": [],
   "source": [
    "from pygradu import gridify\n",
    "import shapely.geometry\n",
    "import pandas as pd\n",
    "import numpy as np\n",
    "import importlib"
   ]
  },
  {
   "cell_type": "code",
   "execution_count": 2,
   "id": "55e20290-bb0f-4579-b3a6-cb818df6ae61",
   "metadata": {},
   "outputs": [
    {
     "name": "stdout",
     "output_type": "stream",
     "text": [
      "Original NE: POINT (134 40)\n",
      "Original SW: POINT (123 32)\n",
      "Transformed NE: (798015.8733194428, 745576.647904759)\n",
      "Transformed SW: (-178108.15701596113, -158644.45983528974)\n",
      "col_count 195\n",
      "row_count 180\n",
      "grid_size 35100\n"
     ]
    },
    {
     "name": "stderr",
     "output_type": "stream",
     "text": [
      "/usr/local/lib/python3.8/dist-packages/pyproj/crs/crs.py:141: FutureWarning: '+init=<authority>:<code>' syntax is deprecated. '<authority>:<code>' is the preferred initialization method. When making the change, be mindful of axis order changes: https://pyproj4.github.io/pyproj/stable/gotchas.html#axis-order-changes-in-proj-6\n",
      "  in_crs_string = _prepare_from_proj_string(in_crs_string)\n",
      "/usr/local/lib/python3.8/dist-packages/pyproj/crs/crs.py:141: FutureWarning: '+init=<authority>:<code>' syntax is deprecated. '<authority>:<code>' is the preferred initialization method. When making the change, be mindful of axis order changes: https://pyproj4.github.io/pyproj/stable/gotchas.html#axis-order-changes-in-proj-6\n",
      "  in_crs_string = _prepare_from_proj_string(in_crs_string)\n"
     ]
    }
   ],
   "source": [
    "grid = gridify.area_to_grid(side_length=5000)"
   ]
  },
  {
   "cell_type": "code",
   "execution_count": 3,
   "id": "2deb8833-48bc-45a1-babc-7074a7567323",
   "metadata": {},
   "outputs": [
    {
     "data": {
      "text/plain": [
       "[53.104092447512414, 8.51290159496569]"
      ]
     },
     "execution_count": 3,
     "metadata": {},
     "output_type": "execute_result"
    }
   ],
   "source": [
    "grid.extract_coords_lat_lon(2)"
   ]
  },
  {
   "cell_type": "code",
   "execution_count": null,
   "id": "64b4f930-88ae-4e79-b2a9-d4d468f1331a",
   "metadata": {},
   "outputs": [],
   "source": []
  }
 ],
 "metadata": {
  "kernelspec": {
   "display_name": "Python 3 (ipykernel)",
   "language": "python",
   "name": "python3"
  },
  "language_info": {
   "codemirror_mode": {
    "name": "ipython",
    "version": 3
   },
   "file_extension": ".py",
   "mimetype": "text/x-python",
   "name": "python",
   "nbconvert_exporter": "python",
   "pygments_lexer": "ipython3",
   "version": "3.8.10"
  }
 },
 "nbformat": 4,
 "nbformat_minor": 5
}
