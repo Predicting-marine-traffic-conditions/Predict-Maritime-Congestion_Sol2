{
 "cells": [
  {
   "cell_type": "code",
   "execution_count": 4,
   "id": "590713d4",
   "metadata": {},
   "outputs": [],
   "source": [
    "import pandas as pd\n",
    "import numpy as np\n",
    "import importlib\n",
    "import matplotlib.pyplot as plt\n",
    "from matplotlib.patches import Polygon\n",
    "import copy\n",
    "\n",
    "import math\n",
    "import IPython\n",
    "import random"
   ]
  },
  {
   "cell_type": "code",
   "execution_count": 2,
   "id": "e2c59de1",
   "metadata": {},
   "outputs": [],
   "source": [
    "range_x = (20, 100)\n",
    "range_y = (20, 100)"
   ]
  },
  {
   "cell_type": "code",
   "execution_count": null,
   "id": "f689831f",
   "metadata": {},
   "outputs": [],
   "source": [
    "for i in range(0, 50):\n",
    "    tx = random.randint(range_x[0], range_x[1])\n",
    "    ty = random.randint(range_y[0], range_y[1])"
   ]
  }
 ],
 "metadata": {
  "kernelspec": {
   "display_name": "Python 3 (ipykernel)",
   "language": "python",
   "name": "python3"
  },
  "language_info": {
   "codemirror_mode": {
    "name": "ipython",
    "version": 3
   },
   "file_extension": ".py",
   "mimetype": "text/x-python",
   "name": "python",
   "nbconvert_exporter": "python",
   "pygments_lexer": "ipython3",
   "version": "3.11.4"
  }
 },
 "nbformat": 4,
 "nbformat_minor": 5
}
